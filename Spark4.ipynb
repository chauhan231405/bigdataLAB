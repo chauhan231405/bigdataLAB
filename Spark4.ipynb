{
  "nbformat": 4,
  "nbformat_minor": 0,
  "metadata": {
    "colab": {
      "provenance": [],
      "include_colab_link": true
    },
    "kernelspec": {
      "name": "python3",
      "display_name": "Python 3"
    },
    "language_info": {
      "name": "python"
    }
  },
  "cells": [
    {
      "cell_type": "markdown",
      "metadata": {
        "id": "view-in-github",
        "colab_type": "text"
      },
      "source": [
        "<a href=\"https://colab.research.google.com/github/chauhan231405/bigdataLAB/blob/main/Spark4.ipynb\" target=\"_parent\"><img src=\"https://colab.research.google.com/assets/colab-badge.svg\" alt=\"Open In Colab\"/></a>"
      ]
    },
    {
      "cell_type": "code",
      "execution_count": null,
      "metadata": {
        "colab": {
          "base_uri": "https://localhost:8080/"
        },
        "id": "kDPNpRfGTZdJ",
        "outputId": "3d0172b6-7754-413a-e00f-449f27cb94d0"
      },
      "outputs": [
        {
          "output_type": "stream",
          "name": "stdout",
          "text": [
            "Collecting pyspark\n",
            "  Downloading pyspark-3.5.0.tar.gz (316.9 MB)\n",
            "\u001b[2K     \u001b[90m━━━━━━━━━━━━━━━━━━━━━━━━━━━━━━━━━━━━━━━━\u001b[0m \u001b[32m316.9/316.9 MB\u001b[0m \u001b[31m4.4 MB/s\u001b[0m eta \u001b[36m0:00:00\u001b[0m\n",
            "\u001b[?25h  Preparing metadata (setup.py) ... \u001b[?25l\u001b[?25hdone\n",
            "Requirement already satisfied: py4j==0.10.9.7 in /usr/local/lib/python3.10/dist-packages (from pyspark) (0.10.9.7)\n",
            "Building wheels for collected packages: pyspark\n",
            "  Building wheel for pyspark (setup.py) ... \u001b[?25l\u001b[?25hdone\n",
            "  Created wheel for pyspark: filename=pyspark-3.5.0-py2.py3-none-any.whl size=317425345 sha256=b0be4ee735a01b150b386d0f11d025247662932dc9bdcdc2b906c696c7e5279e\n",
            "  Stored in directory: /root/.cache/pip/wheels/41/4e/10/c2cf2467f71c678cfc8a6b9ac9241e5e44a01940da8fbb17fc\n",
            "Successfully built pyspark\n",
            "Installing collected packages: pyspark\n",
            "Successfully installed pyspark-3.5.0\n"
          ]
        }
      ],
      "source": [
        "!pip install pyspark"
      ]
    },
    {
      "cell_type": "code",
      "source": [
        "from pyspark.sql import SparkSession\n",
        "from pyspark.ml.evaluation import RegressionEvaluator\n",
        "from pyspark.ml.recommendation import ALS\n",
        "#Setup Spark Session\n",
        "spark = SparkSession.builder.appName('Recommender').getOrCreate()\n",
        "spark"
      ],
      "metadata": {
        "colab": {
          "base_uri": "https://localhost:8080/",
          "height": 222
        },
        "id": "Sg5vTDdcTbSJ",
        "outputId": "0b3c9d33-cbdf-4484-e811-6addef8fc6dd"
      },
      "execution_count": null,
      "outputs": [
        {
          "output_type": "execute_result",
          "data": {
            "text/plain": [
              "<pyspark.sql.session.SparkSession at 0x7c5208624700>"
            ],
            "text/html": [
              "\n",
              "            <div>\n",
              "                <p><b>SparkSession - in-memory</b></p>\n",
              "                \n",
              "        <div>\n",
              "            <p><b>SparkContext</b></p>\n",
              "\n",
              "            <p><a href=\"http://b8ff57b204e3:4040\">Spark UI</a></p>\n",
              "\n",
              "            <dl>\n",
              "              <dt>Version</dt>\n",
              "                <dd><code>v3.5.0</code></dd>\n",
              "              <dt>Master</dt>\n",
              "                <dd><code>local[*]</code></dd>\n",
              "              <dt>AppName</dt>\n",
              "                <dd><code>Recommender</code></dd>\n",
              "            </dl>\n",
              "        </div>\n",
              "        \n",
              "            </div>\n",
              "        "
            ]
          },
          "metadata": {},
          "execution_count": 2
        }
      ]
    },
    {
      "cell_type": "code",
      "source": [
        "data = spark.read.csv('/content/book_ratings.csv',inferSchema=True,header=True)\n",
        "data.show(5)"
      ],
      "metadata": {
        "colab": {
          "base_uri": "https://localhost:8080/"
        },
        "id": "6nve4ljnTvqE",
        "outputId": "aa958bf1-0b43-4dcb-df03-e382a39b1653"
      },
      "execution_count": null,
      "outputs": [
        {
          "output_type": "stream",
          "name": "stdout",
          "text": [
            "+-------+-------+------+\n",
            "|book_id|user_id|rating|\n",
            "+-------+-------+------+\n",
            "|      1|    314|     5|\n",
            "|      1|    439|     3|\n",
            "|      1|    588|     5|\n",
            "|      1|   1169|     4|\n",
            "|      1|   1185|     4|\n",
            "+-------+-------+------+\n",
            "only showing top 5 rows\n",
            "\n"
          ]
        }
      ]
    },
    {
      "cell_type": "code",
      "source": [
        "data.count()"
      ],
      "metadata": {
        "colab": {
          "base_uri": "https://localhost:8080/"
        },
        "id": "AgLh7AppUIr4",
        "outputId": "147893e1-fd2a-4306-9331-b16eebcc38da"
      },
      "execution_count": null,
      "outputs": [
        {
          "output_type": "execute_result",
          "data": {
            "text/plain": [
              "254812"
            ]
          },
          "metadata": {},
          "execution_count": 5
        }
      ]
    },
    {
      "cell_type": "code",
      "source": [
        "data.describe().show()"
      ],
      "metadata": {
        "colab": {
          "base_uri": "https://localhost:8080/"
        },
        "id": "KfCOMbr2UMFB",
        "outputId": "ce143e00-21f7-4b0e-e2e8-bb325d692e56"
      },
      "execution_count": null,
      "outputs": [
        {
          "output_type": "stream",
          "name": "stdout",
          "text": [
            "+-------+------------------+-----------------+------------------+\n",
            "|summary|           book_id|          user_id|            rating|\n",
            "+-------+------------------+-----------------+------------------+\n",
            "|  count|            254812|           254812|            254812|\n",
            "|   mean|1274.9756408646374|24688.24237477042| 3.825373216332041|\n",
            "| stddev|  736.058995940083|14983.10160239284|1.0099376939054863|\n",
            "|    min|                 1|                1|                 1|\n",
            "|    max|              2550|            53424|                 5|\n",
            "+-------+------------------+-----------------+------------------+\n",
            "\n"
          ]
        }
      ]
    },
    {
      "cell_type": "code",
      "source": [
        "train_data, test_data = data.randomSplit([0.8, 0.2])"
      ],
      "metadata": {
        "id": "6U8ykrvhUON_"
      },
      "execution_count": null,
      "outputs": []
    },
    {
      "cell_type": "code",
      "source": [
        "# Build the recommendation model using ALS on the training data\n",
        "als = ALS(maxIter=5,regParam=0.01,userCol=\"user_id\",itemCol=\"book_id\",ratingCol=\"rating\")\n",
        "#Fitting the model on the train_data\n",
        "model = als.fit(train_data)\n",
        "# Evaluate the model by computing the RMSE on the test data\n",
        "predictions = model.transform(test_data)\n",
        "#Displaying predictions calculated by the model\n",
        "predictions.show()"
      ],
      "metadata": {
        "colab": {
          "base_uri": "https://localhost:8080/"
        },
        "id": "nzMG1NhCUQIj",
        "outputId": "1ff4c133-782f-4399-f4cb-07035f1d9fe9"
      },
      "execution_count": null,
      "outputs": [
        {
          "output_type": "stream",
          "name": "stdout",
          "text": [
            "+-------+-------+------+----------+\n",
            "|book_id|user_id|rating|prediction|\n",
            "+-------+-------+------+----------+\n",
            "|      1|  32592|     4|  4.361717|\n",
            "|      1|  48482|     3| 3.6524062|\n",
            "|      1|  13544|     5| 4.0947537|\n",
            "|      1|   3922|     5|  4.806741|\n",
            "|      1|   6630|     5| 4.3079033|\n",
            "|      1|  24845|     5| 4.8308964|\n",
            "|      1|  33065|     4|  4.436782|\n",
            "|      1|   5461|     3| 4.2342515|\n",
            "|      1|  29703|     5|  5.485955|\n",
            "|      1|  42404|     5| 4.6234093|\n",
            "|      1|  33716|     5|  4.103488|\n",
            "|      1|  25214|     4| 3.9475946|\n",
            "|      1|  25164|     4| 3.9230397|\n",
            "|      1|  31001|     4| 4.8696833|\n",
            "|      1|   3662|     4| 4.3757577|\n",
            "|      2|  11692|     3|  4.006947|\n",
            "|      1|  51838|     5|  4.869015|\n",
            "|      1|  37284|     5| 4.6060414|\n",
            "|      1|   1185|     4| 3.7848606|\n",
            "|      1|   5379|     5|  4.917064|\n",
            "+-------+-------+------+----------+\n",
            "only showing top 20 rows\n",
            "\n"
          ]
        }
      ]
    },
    {
      "cell_type": "code",
      "source": [
        "#Filtering user with user id \"5461\" with book id on which it has given the reviews\n",
        "user1 = test_data.filter(test_data['user_id']==5461).select(['book_id','user_id'])\n",
        "#Displaying user1 data\n",
        "user1.show()"
      ],
      "metadata": {
        "colab": {
          "base_uri": "https://localhost:8080/"
        },
        "id": "PwYNahC9UaPz",
        "outputId": "39c51ed8-fce4-4109-caee-3a9f5f0ff587"
      },
      "execution_count": null,
      "outputs": [
        {
          "output_type": "stream",
          "name": "stdout",
          "text": [
            "+-------+-------+\n",
            "|book_id|user_id|\n",
            "+-------+-------+\n",
            "|      1|   5461|\n",
            "|      5|   5461|\n",
            "|      7|   5461|\n",
            "|     28|   5461|\n",
            "|     66|   5461|\n",
            "|     70|   5461|\n",
            "|     72|   5461|\n",
            "|    121|   5461|\n",
            "|    172|   5461|\n",
            "|    186|   5461|\n",
            "|    222|   5461|\n",
            "|    233|   5461|\n",
            "|    255|   5461|\n",
            "|    273|   5461|\n",
            "|    444|   5461|\n",
            "|    461|   5461|\n",
            "|    478|   5461|\n",
            "|    531|   5461|\n",
            "|    621|   5461|\n",
            "|    639|   5461|\n",
            "+-------+-------+\n",
            "only showing top 20 rows\n",
            "\n"
          ]
        }
      ]
    },
    {
      "cell_type": "code",
      "source": [
        "user1.count()"
      ],
      "metadata": {
        "colab": {
          "base_uri": "https://localhost:8080/"
        },
        "id": "41OSfJRDU5OU",
        "outputId": "ed04eb9d-af78-4791-f81e-c3424bf691ce"
      },
      "execution_count": null,
      "outputs": [
        {
          "output_type": "execute_result",
          "data": {
            "text/plain": [
              "35"
            ]
          },
          "metadata": {},
          "execution_count": 14
        }
      ]
    },
    {
      "cell_type": "code",
      "source": [
        "#Traning and evaluating for user1 with our model trained with the help of training data\n",
        "recommendations = model.transform(user1)\n",
        "#Displaying the predictions of books for user1\n",
        "recommendations.orderBy('prediction',ascending=False).show()"
      ],
      "metadata": {
        "colab": {
          "base_uri": "https://localhost:8080/"
        },
        "id": "MxlC2OB5U6ED",
        "outputId": "a41a8594-c939-4af2-eae8-36cc168dcbc8"
      },
      "execution_count": null,
      "outputs": [
        {
          "output_type": "stream",
          "name": "stdout",
          "text": [
            "+-------+-------+----------+\n",
            "|book_id|user_id|prediction|\n",
            "+-------+-------+----------+\n",
            "|     72|   5461|  5.196121|\n",
            "|    863|   5461| 4.8300543|\n",
            "|    444|   5461| 4.8180566|\n",
            "|   1094|   5461|  4.726987|\n",
            "|    233|   5461| 4.5926175|\n",
            "|     70|   5461|  4.573484|\n",
            "|    461|   5461|  4.518782|\n",
            "|    876|   5461| 4.4915648|\n",
            "|      7|   5461|  4.486371|\n",
            "|   1402|   5461| 4.4428067|\n",
            "|    669|   5461|   4.42416|\n",
            "|    255|   5461| 4.4104967|\n",
            "|     28|   5461|  4.375878|\n",
            "|    621|   5461|  4.338524|\n",
            "|   1202|   5461|  4.275343|\n",
            "|      1|   5461| 4.2342515|\n",
            "|   1493|   5461| 4.2266264|\n",
            "|    857|   5461|  4.190601|\n",
            "|      5|   5461| 4.1859503|\n",
            "|    478|   5461|  4.183007|\n",
            "+-------+-------+----------+\n",
            "only showing top 20 rows\n",
            "\n"
          ]
        }
      ]
    },
    {
      "cell_type": "code",
      "source": [
        "recommendations.show()"
      ],
      "metadata": {
        "colab": {
          "base_uri": "https://localhost:8080/"
        },
        "id": "znrAsNdAU8Nw",
        "outputId": "191c2b43-7d1a-45e7-de4f-e683d002712f"
      },
      "execution_count": null,
      "outputs": [
        {
          "output_type": "stream",
          "name": "stdout",
          "text": [
            "+-------+-------+----------+\n",
            "|book_id|user_id|prediction|\n",
            "+-------+-------+----------+\n",
            "|      1|   5461| 4.2342515|\n",
            "|      5|   5461| 4.1859503|\n",
            "|      7|   5461|  4.486371|\n",
            "|     28|   5461|  4.375878|\n",
            "|     66|   5461|   4.11926|\n",
            "|     70|   5461|  4.573484|\n",
            "|     72|   5461|  5.196121|\n",
            "|    121|   5461| 4.1503253|\n",
            "|    172|   5461|   4.06039|\n",
            "|    186|   5461| 4.0417895|\n",
            "|    222|   5461|  4.040632|\n",
            "|    233|   5461| 4.5926175|\n",
            "|    255|   5461| 4.4104967|\n",
            "|    273|   5461|  3.893582|\n",
            "|    444|   5461| 4.8180566|\n",
            "|    461|   5461|  4.518782|\n",
            "|    478|   5461|  4.183007|\n",
            "|    531|   5461|   3.56918|\n",
            "|    621|   5461|  4.338524|\n",
            "|    639|   5461| 4.1384583|\n",
            "+-------+-------+----------+\n",
            "only showing top 20 rows\n",
            "\n"
          ]
        }
      ]
    },
    {
      "cell_type": "code",
      "source": [],
      "metadata": {
        "id": "_ETzZKGIU-Jz"
      },
      "execution_count": null,
      "outputs": []
    }
  ]
}